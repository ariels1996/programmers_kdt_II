{
 "cells": [
  {
   "cell_type": "markdown",
   "metadata": {},
   "source": [
    "밀도추정(Density Estimation): $N$개의 관찰데이터(observations) $\\mathbf{x}_1,\\ldots\\mathbf{x}_N$가 주어졌을 때 분포함수 $p(\\mathbf{x})$를 찾는 것\n",
    "\n",
    "1. $p(\\mathbf{x})$를 파라미터화된 분포로 가정한다. 회귀, 분류문제에서는 주로 $p(t|\\mathbf{x})$, $p(\\mathcal{C}|\\mathbf{x})$를 추정한다.\n",
    "\n",
    "\n",
    "2. 그 다음 분포의 파라미터를 찾는다.\n",
    "  - 빈도주의 방법(Frequentist's way): 어떤 기준(예를 들어 likelihood)을 최적화시키는 과정을 통해 파라미터 값을 정한다. 파라미터의 하나의 값을 구하게 된다.\n",
    "  - 베이지언 방법(Bayesian way): 먼저 파라미터의 사전확률(prior distribution)을 가정하고 Bayes' rule을 통해 파라미터의 사후확률(posterior distribution)을 구한다.\n",
    "\n",
    "\n",
    "3. 파라미터를 찾았다면(한 개의 값이든 분포든) 그것을 사용해 \"예측\"할 수 있다($t$나 $\\mathcal{C}$).\n",
    "\n",
    "\n",
    "켤레사전분포(Conjugate Prior): 사후확률이 사전확률과 동일한 함수형태를 가지도록 해준다."
   ]
  },
  {
   "cell_type": "markdown",
   "metadata": {},
   "source": [
    "## 이항변수(Binary Variables): 빈도주의 방법\n",
    "\n",
    "이항 확률변수(binary random variable) $x\\in \\{0, 1\\}$ (예를 들어 동전던지기)가 다음을 만족한다고 하자.\n",
    "\n",
    "$$p(x=1 | \\mu) = \\mu, p(x=0 | \\mu) = 1 - \\mu$$\n",
    "\n",
    "$p(x)$는 베르누이 분포(Bernoulli distribution)로 표현될 수 있다.\n",
    "\n",
    "$$\\mathrm{Bern}(x | \\mu) = \\mu^x (1-\\mu)^{1-x}$$\n",
    "\n",
    "기댓값, 분산\n",
    "\n",
    "- $\\mathbb{E}[x] = \\mu$\n",
    "- $\\mathrm{var}[x] = \\mu(1-\\mu)$\n",
    "\n",
    "우도함수 (Likelihood Function)\n",
    "\n",
    "$x$값을 $N$번 관찰한 결과를 $\\mathcal{D} = \\{x_1,\\ldots,x_N\\}$라고 하자. 각 $x$가 독립적으로 $p(x|\\mu)$에서 뽑혀진다고 가정하면 다음과 같이 우도함수($\\mu$의 함수인)를 만들 수 있다.\n",
    "\n",
    "$$p(\\mathcal{D}|\\mu) = \\prod_{n=1}^N p(x_n|\\mu) = \\prod_{n=1}^N \\mu^{x_n} (1-\\mu)^{1-x_n}$$\n",
    "\n",
    "**빈도주의 방법**에서는 $\\mu$값을 이 우도함수를 최대화시키는 값으로 구할 수 있다. 또는 아래와 같이 로그우도함수를 최대화시킬 수도 있다.\n",
    "\n",
    "$$\\ln p(\\mathcal{D}|\\mu) = \\sum_{n=1}^N \\ln p(x_n|\\mu) = \\sum_{n=1}^N \\{x_n\\ln \\mu + (1-x_n)\\ln(1-\\mu)\\}$$\n",
    "\n",
    "$\\mu$의 최대우도 추정치(maximum likelihood estimate)는\n",
    "\n",
    "$$\\mu^{\\mathrm{ML}} = \\frac{m}{N} ~~\\mathrm{with}~~ m = (\\#\\mathrm{observations~of}~ x=1)$$\n",
    "\n",
    "$N$이 작은 경우에 위 MLE는 과적합(overfitting)된 결과를 낳을 수 있다. $N = m = 3 \\to \\mu^{\\mathrm{ML}} = 1$!"
   ]
  },
  {
   "cell_type": "markdown",
   "metadata": {},
   "source": [
    "## 이항변수(Binary Variables): 베이지언 방법\n",
    "\n",
    "이항분포 (Binomial Distribution)\n",
    "\n",
    "$\\mathcal{D} = \\{x_1,\\ldots,x_N\\}$일 때, 이항변수 $x$가 1인 경우를 $m$번 관찰할 확률\n",
    "\n",
    "$$\\mathrm{Bin}(m|N,\\mu) = {N \\choose m}\\mu^m(1-\\mu)^{N-m}$$\n",
    "\n",
    "$${N \\choose m} = \\frac{N!}{(N-m)!m!}$$\n",
    "\n",
    "- $\\mathbb{E}[m] = \\sum_{m=0}^N m\\mathrm{Bin}(m|N,\\mu) = N\\mu$\n",
    "- $\\mathrm{var}[m] = \\sum_{m=0}^N (m-\\mathbb{E}[m])^2\\mathrm{Bin}(m|N,\\mu) = N\\mu(1-\\mu)$\n",
    "\n",
    "\n",
    "데이터를 보는 관점\n",
    "- 베르누이 시행의 반복: $x_1,\\ldots,x_N$ 각각이 확률변수\n",
    "- $x$가 1인 경우를 몇 번 관찰했는가?: 하나의 확률변수 $m$\n",
    "\n",
    "베이지안 방법을 쓰기 위해서 데이터의 우도를 구해야 하는데 이항분포를 가정하면 우도함수가 하나의 변수 $m$으로($x_1,\\ldots,x_N$ 대신) 표현가능하므로 간편해진다."
   ]
  },
  {
   "cell_type": "markdown",
   "metadata": {},
   "source": [
    "베타분포 (Beta Distribution)\n",
    "\n",
    "베이지언 방법으로 문제를 해결하기 위해 베타분포를 켤레사전분포(conjugate prior)로 사용한다.\n",
    "\n",
    "$$\\mathrm{Beta}(\\mu|a,b) = \\frac{\\Gamma(a+b)}{\\Gamma(a)\\Gamma(b)}\\mu^{a-1}(1-\\mu)^{b-1}$$\n",
    "\n",
    "감마함수 $\\Gamma(x)$는 다음과 같이 정의된다.\n",
    "\n",
    "$$\\Gamma(x) = \\int_0^{\\infty}u^{x-1}e^{-u}\\mathrm{d}u$$\n",
    "\n",
    "감마함수는 계승(factorial)을 실수로 확장시킨다. $\\Gamma(n) = (n-1)!$\n",
    "\n",
    "#### $\\Gamma(x) = (x-1)\\Gamma(x-1)$임을 증명하기\n",
    "\n",
    "Using integration by parts $\\int_0^{\\infty}a\\mathrm{d}b = \\left. ab\\right\\vert_0^{\\infty} - \\int_0^{\\infty}b\\mathrm{d}a$\n",
    "\n",
    "\\begin{align*}\n",
    "a &= u^{x-1} &\\mathrm{d}b &= -e^{-u}\\mathrm{d}u\\\\\n",
    "b &= e^{-u} &\\mathrm{d}a &= (x-1)u^{x-2}\\mathrm{d}u\\\\\n",
    "\\Gamma(x) &= \\left. u^{x-1}(-e^{-u})\\right\\vert_0^{\\infty} + \\int_0^{\\infty} (x-1)u^{x-2}e^{-u}\\mathrm{d}u\\\\\n",
    "&= 0 + (x-1)\\Gamma(x-1)\n",
    "\\end{align*}"
   ]
  },
  {
   "cell_type": "markdown",
   "metadata": {},
   "source": [
    "베타분포가 normalized임을 증명하기 ($\\int_0^{1}\\mathrm{Beta}(\\mu|a,b)\\mathrm{d}\\mu = 1$)\n",
    "\n",
    "$\\int_0^1 \\mu^{a-1}(1-\\mu)^{b-1}\\mathrm{d}\\mu = \\frac{\\Gamma(a)\\Gamma(b)}{\\Gamma(a+b)}$임을 증명하면 된다.\n",
    "\n",
    "\\begin{align*}\n",
    "\\Gamma(a)\\Gamma(b) &= \\int_0^{\\infty} x^{a-1}e^{-x}\\mathrm{d}x\\int_0^{\\infty} y^{b-1}e^{-y}\\mathrm{d}y\\\\\n",
    "&= \\int_0^{\\infty}\\int_0^{\\infty}e^{-x-y}x^{a-1}y^{b-1}\\mathrm{d}y\\mathrm{d}x\\\\\n",
    "&= \\int_0^{\\infty}\\int_0^{\\infty}e^{-t}x^{a-1}(t-x)^{b-1}\\mathrm{d}t\\mathrm{d}x &\\mathrm{by}~ t=y+x, \\mathrm{d}t = \\mathrm{d}y\\\\\n",
    "&= \\int_0^{\\infty}\\int_0^{\\infty}e^{-t}x^{a-1}(t-x)^{b-1}\\mathrm{d}x\\mathrm{d}t\\\\\n",
    "&= \\int_0^{\\infty}e^{-t}\\int_0^{\\infty}x^{a-1}(t-x)^{b-1}\\mathrm{d}x\\mathrm{d}t\\\\\n",
    "&= \\int_0^{\\infty}e^{-t}\\int_0^1(t\\mu)^{a-1}(t-t\\mu)^{b-1}t\\mathrm{d}\\mu\\mathrm{d}t &\\mathrm{by}~ x=t\\mu, \\mathrm{d}x = t\\mathrm{d}\\mu\\\\\n",
    "&= \\int_0^{\\infty}e^{-t}t^{a-1}t^{b-1}t\\left(\\int_0^1 \\mu^{a-1}(1-\\mu)^{b-1}\\mathrm{d}\\mu\\right)\\mathrm{d}t\\\\\n",
    "&= \\int_0^{\\infty}e^{-t}t^{a+b-1}\\mathrm{d}t\\int_0^1\\mu^{a-1}(1-\\mu)^{b-1}\\mathrm{d}\\mu\\\\\n",
    "&= \\Gamma(a+b)\\int_0^1\\mu^{a-1}(1-\\mu)^{b-1}\\mathrm{d}\\mu\n",
    "\\end{align*}\n",
    "\n",
    "따라서, $\\int_0^1 \\mu^{a-1}(1-\\mu)^{b-1}\\mathrm{d}\\mu = \\frac{\\Gamma(a)\\Gamma(b)}{\\Gamma(a+b)}$이 성립한다.\n",
    "\n",
    "기댓값, 분산\n",
    "\n",
    "- $\\mathbb{E}[\\mu] = \\frac{a}{a+b}$\n",
    "- $\\mathrm{var}[\\mu] = \\frac{ab}{(a+b)^2(a+b+1)}$\n",
    "\n",
    "$\\mu$의 사후확률 (posterior)\n",
    "\n",
    "\\begin{align*}\n",
    "p(\\mu | m, l, a, b) &= \\frac{\\textrm{Bin}(m|N,\\mu)\\textrm{Beta}(\\mu|a,b)}{\\int_0^1 \\textrm{Bin}(m|N,\\mu)\\textrm{Beta}(\\mu|a,b)\\textrm{d}\\mu}\\\\\n",
    "&= \\frac{\\mu^{m+a-1}(1-\\mu)^{l+b-1}}{\\int_0^1 \\mu^{m+b-1}(1-\\mu)^{l+b-1}\\textrm{d}\\mu}\\\\\n",
    "&= \\frac{\\mu^{m+a-1}(1-\\mu)^{l+b-1}}{\\Gamma(m+a)\\Gamma(l+b)/\\Gamma(m+a+l+b)}\\\\\n",
    "&= \\frac{\\Gamma(m+a+l+b)}{\\Gamma(m+a)\\Gamma(l+b)}\\mu^{m+a-1}(1-\\mu)^{l+b-1}\n",
    "\\end{align*}\n",
    "\n",
    "예측분포 (predictive distribution)\n",
    "\n",
    "$$p(x=1 | \\mathcal{D}) = \\int_0^1 p(x=1|\\mu)p(\\mu|\\mathcal{D})\\mathrm{d}\\mu = \\int_0^1 \\mu p(\\mu|\\mathcal{D})\\mathrm{d}\\mu = \\mathbb{E}[\\mu|\\mathcal{D}]$$\n",
    "\n",
    "$$p(x=1 | \\mathcal{D}) = \\frac{m+a}{m+a+l+b}$$"
   ]
  },
  {
   "cell_type": "markdown",
   "metadata": {},
   "source": [
    "## 다항변수(Multinomial Variables): 빈도주의 방법\n",
    "\n",
    "$K$개의 상태를 가질 수 있는 확률변수를 $K$차원의 벡터 $\\mathbf{x}$ (하나의 원소만 1이고 나머지는 0)로 나타낼 수 있다. 이런 $\\mathbf{x}$를 위해서 베르누이 분포를 다음과 같이 일반화시킬 수 있다.\n",
    "\n",
    "$$p(\\mathbf{x}|\\pmb \\mu) = \\prod_{k=1}^K \\mu_k^{x_k}$$\n",
    "with $\\sum_k \\mu_k = 1$\n",
    "\n",
    "$\\mathbf{x}$의 기댓값\n",
    "$$\\mathbb{E}[\\mathbf{x}|\\pmb \\mu] = \\sum_{\\mathbf{x}} p(\\mathbf{x}|\\pmb \\mu) = (\\mu_1,\\ldots,\\mu_M)^T = \\pmb \\mu$$\n",
    "\n",
    "우도함수\n",
    "\n",
    "${\\bf x}$값을 $N$번 관찰한 결과 $\\mathcal{D} = \\{{\\bf x}_1,\\ldots,{\\bf x}_N\\}$가 주어졌을 때, 우도함수는 다음과 같다.\n",
    "\n",
    "$$p(\\mathcal{D}|\\pmb \\mu) = \\prod_{n=1}^N\\prod_{k=1}^K \\mu_k^{x_{nk}} = \\prod_{k=1}^K \\mu_k^{(\\sum_n x_{nk})} = \\prod_{k=1}^K \\mu_k^{m_k}$$\n",
    "\n",
    "$$m_k = \\sum_n x_{nk}$$\n",
    "\n",
    "$\\mu$의 최대우도 추정치(maximum likelihood estimate)를 구하기 위해선 $\\mu_k$의 합이 1이 된다는 조건하에서 $\\ln p(\\mathcal{D}|\\pmb \\mu)$을 최대화시키는 $\\mu_k$를 구해야 한다. 라그랑주 승수(Lagrange multiplier) $\\lambda$를 사용해서 다음을 최대화시키면 된다.\n",
    "\n",
    "$$\\sum_{k=1}^K m_k \\ln \\mu_k + \\lambda \\left(\\sum_{k=1}^K \\mu_k -1\\right)$$\n",
    "\n",
    "$$\\mu_k^{ML} = \\frac{m_k}{N}$$"
   ]
  },
  {
   "cell_type": "markdown",
   "metadata": {},
   "source": [
    "## 다항변수(Multinomial Variables): 베이지언 방법\n",
    "\n",
    "다항분포 (Multinomial distribution)\n",
    "\n",
    "파라미터 $\\pmb \\mu$와 전체 관찰개수 $N$이 주어졌을 때 $m_1,\\ldots,m_K$의 분포를 다항분포(multinomial distribution)이라고 하고 다음과 같은 형태를 가진다.\n",
    "\n",
    "$$\\mathrm{Mult}(m_1,\\ldots,m_K|\\pmb \\mu,N) = {N \\choose m_1m_2\\ldots m_K} \\prod_{k=1}^K \\mu_k^{m_k}$$\n",
    "\n",
    "$${N \\choose m_1m_2\\ldots m_K} = \\frac{N!}{m_1!m_2!\\ldots m_K!}$$\n",
    "\n",
    "$$\\sum_{k=1}^K m_k= N$$\n",
    "\n",
    "디리클레 분포(Dirichlet distribution): 다항분포를 위한 켤레사전분포\n",
    "\n",
    "$$\\mathrm{Dir}(\\pmb \\mu|\\mathbf{\\alpha}) = \\frac{\\Gamma{\\alpha_0}}{\\Gamma(\\alpha_1)\\ldots\\Gamma(\\alpha_K)}\\prod_{k=1}^K \\mu_k^{\\alpha_k-1}$$\n",
    "\n",
    "$$\\alpha_0 = \\sum_{k=1}^K \\alpha_k$$\n",
    "\n",
    "디리클레 분포의 normalization 증명 ($K=3$)\n",
    "\n",
    "다음 결과를 사용한다.\n",
    "\n",
    "\\begin{align*}\n",
    "\\int_L^U(x-L)^{a-1}(U-x)^{b-1}\\mathrm{d}x &= \\int_0^1 (U-L)^{a-1}t^{a-1}(U-L)^{b-1}(1-t)^{b-1}(U-L)\\mathrm{d}t &\\mathrm{by}~ t=\\frac{x-L}{U-L}\\\\\n",
    "&= (U-L)^{a+b-1}\\int_0^1 t^{a-1}(1-t)^{b-1}\\mathrm{d}t\\\\\n",
    "&= (U-L)^{a+b-1}\\frac{\\Gamma(a)\\Gamma(b)}{\\Gamma(a+b)}\n",
    "\\end{align*}\n",
    "\n",
    "\\begin{align*}\n",
    "\\int_0^{1-\\mu_1}\\mu_1^{\\alpha_1-1}\\mu_2^{\\alpha_2-1}(1-\\mu_1-\\mu_2)^{\\alpha_3-1}\\mathrm{d}\\mu_2 &= \\mu_1^{\\alpha_1-1}\\int_0^{1-\\mu_1}\\mu_2^{\\alpha_2-1}(1-\\mu_1-\\mu_2)^{\\alpha_3-1}\\mathrm{d}\\mu_2 & \\textrm{by}~ L=0, U=1-\\mu_1\\\\\n",
    "&= \\mu_1^{\\alpha_1-1}(1-\\mu_1)^{\\alpha_2+\\alpha_3-1}\\frac{\\Gamma(\\alpha_2)\\Gamma(\\alpha_3)}{\\Gamma(\\alpha_2+\\alpha_3)}\n",
    "\\end{align*}\n",
    "\n",
    "\\begin{align*}\n",
    "\\int_0^1\\int_0^{1-\\mu_1}\\mu_1^{\\alpha_1-1}\\mu_2^{\\alpha_2-1}(1-\\mu_1-\\mu_2)^{\\alpha_3-1}\\mathrm{d}\\mu_2\\mathrm{d}\\mu_1 &= \\frac{\\Gamma(\\alpha_2)\\Gamma(\\alpha_3)}{\\Gamma(\\alpha_2+\\alpha_3)} \\int_0^1 \\mu_1^{\\alpha_1-1}(1-\\mu_1)^{\\alpha_2+\\alpha_3-1}\\mathrm{d}\\mu_1\\\\\n",
    "&= \\frac{\\Gamma(\\alpha_2)\\Gamma(\\alpha_3)}{\\Gamma(\\alpha_2+\\alpha_3)} \\frac{\\Gamma(\\alpha_1)\\Gamma(\\alpha_2+\\alpha_3)}{\\Gamma(\\alpha_1+\\alpha_2+\\alpha_3)}\\\\\n",
    "&= \\frac{\\Gamma(\\alpha_1)\\Gamma(\\alpha_2)\\Gamma(\\alpha_3)}{\\Gamma(\\alpha_1+\\alpha_2+\\alpha_3)}\n",
    "\\end{align*}\n",
    "\n",
    "$\\mu$의 사후확률 (posterior)\n",
    "\n",
    "\\begin{align*}\n",
    "p(\\pmb \\mu|\\mathcal{D},\\mathbf{\\alpha}) &= \\mathrm{Dir}(\\pmb \\mu|\\mathbf{\\alpha}+\\mathbf{m})\\\\\n",
    "&= \\frac{\\Gamma(\\alpha_0+N)}{\\Gamma(\\alpha_1+m_1)\\ldots\\Gamma(\\alpha_K+m_K)}\\prod_{k=1}^K \\mu_k^{\\alpha_k+m_k-1}\n",
    "\\end{align*}\n",
    "\n",
    "$$\\mathbf{m} = (m_1,\\ldots,m_K)^T$$\n",
    "\n",
    "$\\alpha_k$를 $x_k=1$에 대한 사전관찰 개수라고 생각할 수 있다."
   ]
  },
  {
   "cell_type": "code",
   "execution_count": 13,
   "metadata": {},
   "outputs": [],
   "source": [
    "# for inline plots in jupyter\n",
    "%matplotlib inline\n",
    "# import matplotlib\n",
    "import matplotlib.pyplot as plt\n",
    "# for latex equations\n",
    "from IPython.display import Math, Latex\n",
    "# for displaying images\n",
    "from IPython.core.display import Image"
   ]
  },
  {
   "cell_type": "code",
   "execution_count": 14,
   "metadata": {},
   "outputs": [],
   "source": [
    "# import seaborn\n",
    "import seaborn as sns\n",
    "# settings for seaborn plotting style\n",
    "sns.set(color_codes=True)\n",
    "# settings for seaborn plot sizes\n",
    "sns.set(rc={'figure.figsize':(5,5)})\n",
    "import numpy as np"
   ]
  },
  {
   "cell_type": "markdown",
   "metadata": {},
   "source": [
    "## Uniform Distribution"
   ]
  },
  {
   "cell_type": "code",
   "execution_count": 15,
   "metadata": {},
   "outputs": [],
   "source": [
    "# import uniform distribution\n",
    "from scipy.stats import uniform"
   ]
  },
  {
   "cell_type": "code",
   "execution_count": 16,
   "metadata": {},
   "outputs": [],
   "source": [
    "# random numbers from uniform distribution\n",
    "n = 10000\n",
    "start = 10\n",
    "width = 20\n",
    "data_uniform = uniform.rvs(size=n, loc = start, scale=width)"
   ]
  },
  {
   "cell_type": "code",
   "execution_count": 17,
   "metadata": {},
   "outputs": [
    {
     "data": {
      "text/plain": [
       "array([23.89980932, 19.97893297, 11.91920445, ..., 27.60285033,\n",
       "       26.72040632, 12.85609619])"
      ]
     },
     "execution_count": 17,
     "metadata": {},
     "output_type": "execute_result"
    }
   ],
   "source": [
    "data_uniform"
   ]
  },
  {
   "cell_type": "code",
   "execution_count": 18,
   "metadata": {
    "scrolled": true
   },
   "outputs": [
    {
     "data": {
      "text/plain": [
       "[Text(0.5, 0, 'Uniform Distribution '), Text(0, 0.5, 'Frequency')]"
      ]
     },
     "execution_count": 18,
     "metadata": {},
     "output_type": "execute_result"
    },
    {
     "data": {
      "image/png": "[encoded data removed]",
      "text/plain": [
       "<Figure size 360x360 with 1 Axes>"
      ]
     },
     "metadata": {},
     "output_type": "display_data"
    }
   ],
   "source": [
    "ax = sns.distplot(data_uniform,\n",
    "                  bins=100,\n",
    "                  kde=True,\n",
    "                  color='skyblue',\n",
    "                  hist_kws={\"linewidth\": 15,'alpha':1})\n",
    "ax.set(xlabel='Uniform Distribution ', ylabel='Frequency')"
   ]
  },
  {
   "cell_type": "markdown",
   "metadata": {},
   "source": [
    "## Bernoulli Distribution"
   ]
  },
  {
   "cell_type": "code",
   "execution_count": 19,
   "metadata": {},
   "outputs": [],
   "source": [
    "from scipy.stats import bernoulli\n",
    "data_bern = bernoulli.rvs(size=10000,p=0.8)"
   ]
  },
  {
   "cell_type": "code",
   "execution_count": 21,
   "metadata": {},
   "outputs": [
    {
     "data": {
      "text/plain": [
       "array([1, 1, 1, 1, 1, 0, 1, 1, 1, 0, 0, 0, 1, 1, 1, 0, 1, 0, 1, 1, 0, 1,\n",
       "       1, 0, 1, 0, 1, 1, 0, 1, 1, 1, 1, 0, 1, 1, 1, 1, 1, 1, 1, 0, 0, 0,\n",
       "       1, 0, 1, 0, 1, 1, 1, 1, 0, 1, 1, 1, 1, 1, 0, 1, 0, 0, 1, 1, 1, 1,\n",
       "       1, 1, 1, 1, 1, 1, 1, 1, 1, 0, 1, 1, 1, 1, 1, 1, 1, 1, 0, 1, 1, 1,\n",
       "       1, 1, 1, 1, 1, 1, 1, 1, 1, 1, 1, 1])"
      ]
     },
     "execution_count": 21,
     "metadata": {},
     "output_type": "execute_result"
    }
   ],
   "source": [
    "data_bern[:100]"
   ]
  },
  {
   "cell_type": "code",
   "execution_count": 23,
   "metadata": {},
   "outputs": [
    {
     "data": {
      "text/plain": [
       "(array([0, 1]), array([2009, 7991]))"
      ]
     },
     "execution_count": 23,
     "metadata": {},
     "output_type": "execute_result"
    }
   ],
   "source": [
    "np.unique(data_bern, return_counts=True)"
   ]
  },
  {
   "cell_type": "code",
   "execution_count": 24,
   "metadata": {},
   "outputs": [
    {
     "data": {
      "text/plain": [
       "array([1, 1, 1, ..., 1, 1, 1])"
      ]
     },
     "execution_count": 24,
     "metadata": {},
     "output_type": "execute_result"
    }
   ],
   "source": [
    "data_bern"
   ]
  },
  {
   "cell_type": "code",
   "execution_count": 25,
   "metadata": {
    "scrolled": true
   },
   "outputs": [
    {
     "name": "stderr",
     "output_type": "stream",
     "text": [
      "/usr/local/lib/python3.8/site-packages/seaborn/distributions.py:2551: FutureWarning: `distplot` is a deprecated function and will be removed in a future version. Please adapt your code to use either `displot` (a figure-level function with similar flexibility) or `histplot` (an axes-level function for histograms).\n",
      "  warnings.warn(msg, FutureWarning)\n"
     ]
    },
    {
     "data": {
      "text/plain": [
       "[Text(0.5, 0, 'Bernoulli Distribution'), Text(0, 0.5, 'Frequency')]"
      ]
     },
     "execution_count": 25,
     "metadata": {},
     "output_type": "execute_result"
    },
    {
     "data": {
      "image/png": "[encoded data removed]",
      "text/plain": [
       "<Figure size 360x360 with 1 Axes>"
      ]
     },
     "metadata": {},
     "output_type": "display_data"
    }
   ],
   "source": [
    "ax= sns.distplot(data_bern,\n",
    "                 kde=False,\n",
    "                 color=\"skyblue\",\n",
    "                 hist_kws={\"linewidth\": 15,'alpha':1})\n",
    "ax.set(xlabel='Bernoulli Distribution', ylabel='Frequency')"
   ]
  },
  {
   "cell_type": "markdown",
   "metadata": {},
   "source": [
    "## Beta Distribution"
   ]
  },
  {
   "cell_type": "code",
   "execution_count": 26,
   "metadata": {},
   "outputs": [],
   "source": [
    "from scipy.stats import beta\n",
    "a, b = 0.1, 0.1\n",
    "data_beta = beta.rvs(a, b, size=10000)"
   ]
  },
  {
   "cell_type": "code",
   "execution_count": 11,
   "metadata": {},
   "outputs": [
    {
     "data": {
      "text/plain": [
       "array([7.20654551e-01, 2.21021399e-01, 2.96080508e-09, ...,\n",
       "       9.99873860e-01, 6.50715070e-13, 6.57306331e-10])"
      ]
     },
     "execution_count": 11,
     "metadata": {},
     "output_type": "execute_result"
    }
   ],
   "source": [
    "data_beta"
   ]
  },
  {
   "cell_type": "code",
   "execution_count": 12,
   "metadata": {},
   "outputs": [
    {
     "data": {
      "text/plain": [
       "[Text(0.5, 0, 'Beta Distribution'), Text(0, 0.5, 'Frequency')]"
      ]
     },
     "execution_count": 12,
     "metadata": {},
     "output_type": "execute_result"
    },
    {
     "data": {
      "image/png": "[encoded data removed]",
      "text/plain": [
       "<Figure size 360x360 with 1 Axes>"
      ]
     },
     "metadata": {},
     "output_type": "display_data"
    }
   ],
   "source": [
    "ax= sns.distplot(data_beta,\n",
    "                 kde=False,\n",
    "                 color=\"skyblue\",\n",
    "                 hist_kws={\"linewidth\": 15,'alpha':1})\n",
    "ax.set(xlabel='Beta Distribution', ylabel='Frequency')"
   ]
  },
  {
   "cell_type": "markdown",
   "metadata": {},
   "source": [
    "## Multinomial Distribution"
   ]
  },
  {
   "cell_type": "code",
   "execution_count": 27,
   "metadata": {},
   "outputs": [],
   "source": [
    "from scipy.stats import multinomial\n",
    "data_multinomial = multinomial.rvs(n=1, p=[0.2, 0.1, 0.3, 0.4], size=10000)"
   ]
  },
  {
   "cell_type": "code",
   "execution_count": 28,
   "metadata": {},
   "outputs": [
    {
     "data": {
      "text/plain": [
       "array([[0, 0, 1, 0],\n",
       "       [0, 0, 1, 0],\n",
       "       [0, 0, 1, 0],\n",
       "       [1, 0, 0, 0],\n",
       "       [0, 0, 0, 1],\n",
       "       [1, 0, 0, 0],\n",
       "       [0, 0, 1, 0],\n",
       "       [0, 0, 0, 1],\n",
       "       [1, 0, 0, 0],\n",
       "       [0, 0, 1, 0],\n",
       "       [0, 0, 0, 1],\n",
       "       [0, 0, 0, 1],\n",
       "       [0, 0, 0, 1],\n",
       "       [0, 0, 0, 1],\n",
       "       [0, 0, 1, 0],\n",
       "       [0, 0, 0, 1],\n",
       "       [0, 0, 0, 1],\n",
       "       [0, 0, 1, 0],\n",
       "       [0, 0, 0, 1],\n",
       "       [0, 0, 1, 0],\n",
       "       [0, 0, 1, 0],\n",
       "       [1, 0, 0, 0],\n",
       "       [0, 0, 0, 1],\n",
       "       [0, 0, 1, 0],\n",
       "       [1, 0, 0, 0],\n",
       "       [0, 0, 0, 1],\n",
       "       [0, 0, 0, 1],\n",
       "       [0, 0, 1, 0],\n",
       "       [0, 0, 0, 1],\n",
       "       [0, 0, 1, 0],\n",
       "       [0, 0, 0, 1],\n",
       "       [0, 0, 1, 0],\n",
       "       [0, 0, 0, 1],\n",
       "       [1, 0, 0, 0],\n",
       "       [0, 0, 0, 1],\n",
       "       [0, 0, 1, 0],\n",
       "       [0, 1, 0, 0],\n",
       "       [0, 0, 0, 1],\n",
       "       [0, 0, 1, 0],\n",
       "       [1, 0, 0, 0],\n",
       "       [0, 0, 0, 1],\n",
       "       [0, 1, 0, 0],\n",
       "       [1, 0, 0, 0],\n",
       "       [0, 0, 1, 0],\n",
       "       [0, 1, 0, 0],\n",
       "       [1, 0, 0, 0],\n",
       "       [0, 0, 0, 1],\n",
       "       [0, 0, 0, 1],\n",
       "       [0, 0, 0, 1],\n",
       "       [0, 1, 0, 0]])"
      ]
     },
     "execution_count": 28,
     "metadata": {},
     "output_type": "execute_result"
    }
   ],
   "source": [
    "data_multinomial[:50]"
   ]
  },
  {
   "cell_type": "code",
   "execution_count": 29,
   "metadata": {},
   "outputs": [
    {
     "name": "stdout",
     "output_type": "stream",
     "text": [
      "(array([0, 1]), array([7978, 2022]))\n",
      "(array([0, 1]), array([9031,  969]))\n",
      "(array([0, 1]), array([6979, 3021]))\n",
      "(array([0, 1]), array([6012, 3988]))\n"
     ]
    }
   ],
   "source": [
    "for i in range(4):\n",
    "  print(np.unique(data_multinomial[:,i], return_counts=True))"
   ]
  },
  {
   "cell_type": "code",
   "execution_count": 44,
   "metadata": {},
   "outputs": [
    {
     "name": "stdout",
     "output_type": "stream",
     "text": [
      "(1, 3)\n",
      "(3, 1)\n"
     ]
    },
    {
     "data": {
      "text/plain": [
       "array([[1],\n",
       "       [3],\n",
       "       [3]])"
      ]
     },
     "execution_count": 44,
     "metadata": {},
     "output_type": "execute_result"
    }
   ],
   "source": [
    "r =np.array([[1,3,3]])\n",
    "print ( r.shape)\n",
    "print ( r.T.shape)\n",
    "r.T\n"
   ]
  },
  {
   "cell_type": "code",
   "execution_count": null,
   "metadata": {},
   "outputs": [],
   "source": []
  }
 ],
 "metadata": {
  "kernelspec": {
   "display_name": "Python 3",
   "language": "python",
   "name": "python3"
  },
  "language_info": {
   "codemirror_mode": {
    "name": "ipython",
    "version": 3
   },
   "file_extension": ".py",
   "mimetype": "text/x-python",
   "name": "python",
   "nbconvert_exporter": "python",
   "pygments_lexer": "ipython3",
   "version": "3.8.5"
  }
 },
 "nbformat": 4,
 "nbformat_minor": 4
}
